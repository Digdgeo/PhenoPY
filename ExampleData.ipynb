{
 "cells": [
  {
   "cell_type": "code",
   "execution_count": 1,
   "metadata": {},
   "outputs": [],
   "source": [
    "# import common libraries\n",
    "import rasterio\n",
    "import pandas as pd"
   ]
  },
  {
   "cell_type": "code",
   "execution_count": 2,
   "metadata": {},
   "outputs": [],
   "source": [
    "# import phenopy\n",
    "import phenopy"
   ]
  },
  {
   "cell_type": "code",
   "execution_count": 3,
   "metadata": {},
   "outputs": [
    {
     "name": "stdout",
     "output_type": "stream",
     "text": [
      "0       85\n",
      "1       96\n",
      "2      106\n",
      "3      136\n",
      "4      145\n",
      "5      166\n",
      "6      175\n",
      "7      196\n",
      "8      205\n",
      "9      215\n",
      "10     226\n",
      "11     235\n",
      "12     245\n",
      "13     256\n",
      "14     265\n",
      "15     286\n",
      "16     305\n",
      "17     326\n",
      "18     335\n",
      "19     356\n",
      "20      60\n",
      "21      70\n",
      "22      80\n",
      "23      90\n",
      "24     110\n",
      "25     120\n",
      "26     130\n",
      "27     140\n",
      "28     170\n",
      "29     180\n",
      "      ... \n",
      "86     225\n",
      "87     230\n",
      "88     235\n",
      "89     245\n",
      "90     250\n",
      "91     260\n",
      "92     265\n",
      "93     270\n",
      "94     280\n",
      "95     285\n",
      "96     290\n",
      "97     295\n",
      "98     305\n",
      "99     310\n",
      "100    315\n",
      "101    320\n",
      "102    340\n",
      "103    345\n",
      "104    360\n",
      "105    364\n",
      "106     51\n",
      "107     70\n",
      "108     75\n",
      "109     80\n",
      "110     90\n",
      "111    100\n",
      "112    110\n",
      "113    115\n",
      "114    120\n",
      "115    125\n",
      "Name: 0, Length: 116, dtype: int64\n"
     ]
    }
   ],
   "source": [
    "# load time data corresponding to the time serie data\n",
    "days = 'data/dates.txt'\n",
    "dates = pd.read_csv(days, header=None)[0]\n",
    "dates = pd.to_datetime(dates)\n",
    "doy = dates.dt.dayofyear\n",
    "print(doy)"
   ]
  },
  {
   "cell_type": "code",
   "execution_count": 5,
   "metadata": {},
   "outputs": [
    {
     "name": "stdout",
     "output_type": "stream",
     "text": [
      "### Shape of the EVI input time series dataset\n",
      "# colums =  33\n",
      "# rows =  30\n",
      "# bands =  116\n"
     ]
    }
   ],
   "source": [
    "# ---------------------------------------------------------------------------------------\n",
    "# produce shape of phenology\n",
    "# ---------------------------------------------------------------------------------------\n",
    "\n",
    "# load raster data\n",
    "inData = '/home/javier/Documents/SF_delta/Sentinel/testData/rasterTest.tif'\n",
    "outData = '/home/javier/Documents/SF_delta/Sentinel/testData/outShape.tif' # name of output raster\n",
    "\n",
    "with rasterio.open(inData) as r:\n",
    "    print('### Shape of the EVI input time series dataset')\n",
    "    print('# colums = ', r.width)\n",
    "    print('# rows = ', r.height)\n",
    "    print('# bands = ', r.count)\n",
    "    dstack = r.read()"
   ]
  },
  {
   "cell_type": "code",
   "execution_count": 6,
   "metadata": {},
   "outputs": [
    {
     "name": "stderr",
     "output_type": "stream",
     "text": [
      "100%|██████████| 6/6 [00:01<00:00,  3.48it/s]\n"
     ]
    }
   ],
   "source": [
    "# get phenological shape of the wetlands\n",
    "phenopy.PhenoShape(inData=inData, outData=outData, dates=dates, rollWindow=5,\n",
    "                nan_replace=-32767, nGS=46, chuckSize=16, n_jobs=3)"
   ]
  },
  {
   "cell_type": "code",
   "execution_count": 7,
   "metadata": {},
   "outputs": [
    {
     "name": "stderr",
     "output_type": "stream",
     "text": [
      "100%|██████████| 6/6 [00:00<00:00, 19.74it/s]\n"
     ]
    }
   ],
   "source": [
    "# get land surface phenology metrics\n",
    "phenopy.PhenoLSP(inData=outData, outData=outData[:-4] + '_LSP2.tif',\n",
    "              doy=doy, phentype=2, nGS=46, n_jobs=8, chuckSize=16)"
   ]
  },
  {
   "cell_type": "code",
   "execution_count": 8,
   "metadata": {},
   "outputs": [
    {
     "name": "stderr",
     "output_type": "stream",
     "text": [
      "100%|██████████| 990/990 [00:00<00:00, 7525.30it/s]\n",
      "100%|██████████| 990/990 [00:00<00:00, 7798.36it/s]\n"
     ]
    }
   ],
   "source": [
    "# get RMSE between the fitted phenoshape and the real distribution of values\n",
    "phenopy.RMSE(inData, outData, outData[:-4] + '_RMSE.tif', dates, nan_replace=-32767)\n",
    "# normalized\n",
    "phenopy.RMSE(inData, outData, outData[:-4] + '_nRMSE.tif', dates, normalized=True, nan_replace=-32767)"
   ]
  },
  {
   "cell_type": "code",
   "execution_count": null,
   "metadata": {},
   "outputs": [],
   "source": []
  }
 ],
 "metadata": {
  "kernelspec": {
   "display_name": "Python 3",
   "language": "python",
   "name": "python3"
  },
  "language_info": {
   "codemirror_mode": {
    "name": "ipython",
    "version": 3
   },
   "file_extension": ".py",
   "mimetype": "text/x-python",
   "name": "python",
   "nbconvert_exporter": "python",
   "pygments_lexer": "ipython3",
   "version": "3.7.3"
  }
 },
 "nbformat": 4,
 "nbformat_minor": 4
}
